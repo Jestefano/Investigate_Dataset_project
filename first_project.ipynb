{
 "cells": [
  {
   "cell_type": "markdown",
   "metadata": {},
   "source": [
    "# Project: Medical Appointment No Shows\n",
    "\n",
    "## Table of Contents\n",
    "<ul>\n",
    "<li><a href=\"#intro\">Introduction</a></li>\n",
    "<li><a href=\"#wrangling\">Data Wrangling</a></li>\n",
    "<li><a href=\"#eda\">Exploratory Data Analysis</a></li>\n",
    "<li><a href=\"#conclusions\">Conclusions</a></li>\n",
    "</ul>"
   ]
  },
  {
   "cell_type": "markdown",
   "metadata": {},
   "source": [
    "<a id='intro'></a>\n",
    "## Introduction\n",
    "\n",
    "Why would a patient be absent to an appointment? We tackle this question during this project. \n",
    "\n",
    "The dataset that I am going to study during this project is related to this question. It gives general information of a patient and whether he/she showed up to an appointment.\n",
    "\n",
    "Specificly, I'm going to focus on the following questions:\n",
    "<ol>\n",
    "    <a href = \"#quest1\"><li> Is the age related to the rate of assistance? </li> </a>\n",
    "    <a href = \"#quest2\"><li> Is the gender and age related to the rate of assistance? </li> </a>\n",
    "    <a href = \"#quest3\"><li> Does receiving a sms affect the rate of assistance?</li> </a>\n",
    "    <a href = \"#quest4\"><li> Do the age and receiving a sms affect the rate of assistance? </li> </a>\n",
    "    <a href = \"#quest5\"><li> Is there any difference in assistance between patients that make an appointment for the same day in comparison to the ones that do not? </li> </a>\n",
    "</ol>\n",
    "\n",
    "The dataset can be downloaded [here](https://www.kaggle.com/joniarroba/noshowappointments/version/5)"
   ]
  },
  {
   "cell_type": "code",
   "execution_count": 1,
   "metadata": {},
   "outputs": [],
   "source": [
    "#First, we start importing the libraries:\n",
    "import numpy as np\n",
    "import pandas as pd\n",
    "import matplotlib.pyplot as plt\n",
    "import seaborn as sns\n",
    "sns.set_style('darkgrid')\n",
    "%matplotlib inline"
   ]
  },
  {
   "cell_type": "markdown",
   "metadata": {},
   "source": [
    "<a id='wrangling'></a>\n",
    "## Data Wrangling\n",
    "\n",
    "### General:"
   ]
  },
  {
   "cell_type": "code",
   "execution_count": 2,
   "metadata": {},
   "outputs": [
    {
     "data": {
      "text/html": [
       "<div>\n",
       "<style scoped>\n",
       "    .dataframe tbody tr th:only-of-type {\n",
       "        vertical-align: middle;\n",
       "    }\n",
       "\n",
       "    .dataframe tbody tr th {\n",
       "        vertical-align: top;\n",
       "    }\n",
       "\n",
       "    .dataframe thead th {\n",
       "        text-align: right;\n",
       "    }\n",
       "</style>\n",
       "<table border=\"1\" class=\"dataframe\">\n",
       "  <thead>\n",
       "    <tr style=\"text-align: right;\">\n",
       "      <th></th>\n",
       "      <th>PatientId</th>\n",
       "      <th>AppointmentID</th>\n",
       "      <th>Gender</th>\n",
       "      <th>ScheduledDay</th>\n",
       "      <th>AppointmentDay</th>\n",
       "      <th>Age</th>\n",
       "      <th>Neighbourhood</th>\n",
       "      <th>Scholarship</th>\n",
       "      <th>Hipertension</th>\n",
       "      <th>Diabetes</th>\n",
       "      <th>Alcoholism</th>\n",
       "      <th>Handcap</th>\n",
       "      <th>SMS_received</th>\n",
       "      <th>No-show</th>\n",
       "    </tr>\n",
       "  </thead>\n",
       "  <tbody>\n",
       "    <tr>\n",
       "      <th>0</th>\n",
       "      <td>2.987250e+13</td>\n",
       "      <td>5642903</td>\n",
       "      <td>F</td>\n",
       "      <td>2016-04-29T18:38:08Z</td>\n",
       "      <td>2016-04-29T00:00:00Z</td>\n",
       "      <td>62</td>\n",
       "      <td>JARDIM DA PENHA</td>\n",
       "      <td>0</td>\n",
       "      <td>1</td>\n",
       "      <td>0</td>\n",
       "      <td>0</td>\n",
       "      <td>0</td>\n",
       "      <td>0</td>\n",
       "      <td>No</td>\n",
       "    </tr>\n",
       "  </tbody>\n",
       "</table>\n",
       "</div>"
      ],
      "text/plain": [
       "      PatientId  AppointmentID Gender          ScheduledDay  \\\n",
       "0  2.987250e+13        5642903      F  2016-04-29T18:38:08Z   \n",
       "\n",
       "         AppointmentDay  Age    Neighbourhood  Scholarship  Hipertension  \\\n",
       "0  2016-04-29T00:00:00Z   62  JARDIM DA PENHA            0             1   \n",
       "\n",
       "   Diabetes  Alcoholism  Handcap  SMS_received No-show  \n",
       "0         0           0        0             0      No  "
      ]
     },
     "execution_count": 2,
     "metadata": {},
     "output_type": "execute_result"
    }
   ],
   "source": [
    "#We read the csv file:\n",
    "data = pd.read_csv('noshowappointments-kagglev2-may-2016.csv')\n",
    "\n",
    "#And we check that we have read correctly:\n",
    "data.head(1)"
   ]
  },
  {
   "cell_type": "code",
   "execution_count": 3,
   "metadata": {},
   "outputs": [
    {
     "data": {
      "text/html": [
       "<div>\n",
       "<style scoped>\n",
       "    .dataframe tbody tr th:only-of-type {\n",
       "        vertical-align: middle;\n",
       "    }\n",
       "\n",
       "    .dataframe tbody tr th {\n",
       "        vertical-align: top;\n",
       "    }\n",
       "\n",
       "    .dataframe thead th {\n",
       "        text-align: right;\n",
       "    }\n",
       "</style>\n",
       "<table border=\"1\" class=\"dataframe\">\n",
       "  <thead>\n",
       "    <tr style=\"text-align: right;\">\n",
       "      <th></th>\n",
       "      <th>patientid</th>\n",
       "      <th>appointmentid</th>\n",
       "      <th>gender</th>\n",
       "      <th>scheduledday</th>\n",
       "      <th>appointmentday</th>\n",
       "      <th>age</th>\n",
       "      <th>neighbourhood</th>\n",
       "      <th>scholarship</th>\n",
       "      <th>hipertension</th>\n",
       "      <th>diabetes</th>\n",
       "      <th>alcoholism</th>\n",
       "      <th>handcap</th>\n",
       "      <th>sms_received</th>\n",
       "      <th>no-show</th>\n",
       "    </tr>\n",
       "  </thead>\n",
       "  <tbody>\n",
       "    <tr>\n",
       "      <th>0</th>\n",
       "      <td>2.987250e+13</td>\n",
       "      <td>5642903</td>\n",
       "      <td>F</td>\n",
       "      <td>2016-04-29T18:38:08Z</td>\n",
       "      <td>2016-04-29T00:00:00Z</td>\n",
       "      <td>62</td>\n",
       "      <td>JARDIM DA PENHA</td>\n",
       "      <td>0</td>\n",
       "      <td>1</td>\n",
       "      <td>0</td>\n",
       "      <td>0</td>\n",
       "      <td>0</td>\n",
       "      <td>0</td>\n",
       "      <td>No</td>\n",
       "    </tr>\n",
       "  </tbody>\n",
       "</table>\n",
       "</div>"
      ],
      "text/plain": [
       "      patientid  appointmentid gender          scheduledday  \\\n",
       "0  2.987250e+13        5642903      F  2016-04-29T18:38:08Z   \n",
       "\n",
       "         appointmentday  age    neighbourhood  scholarship  hipertension  \\\n",
       "0  2016-04-29T00:00:00Z   62  JARDIM DA PENHA            0             1   \n",
       "\n",
       "   diabetes  alcoholism  handcap  sms_received no-show  \n",
       "0         0           0        0             0      No  "
      ]
     },
     "execution_count": 3,
     "metadata": {},
     "output_type": "execute_result"
    }
   ],
   "source": [
    "# First, I'm going to start modifying the name of the columns.\n",
    "# I prefer to have all my column names in lower case:\n",
    "\n",
    "data.rename(columns = lambda x:x.lower(),inplace = True)\n",
    "data.head(1)"
   ]
  },
  {
   "cell_type": "code",
   "execution_count": 4,
   "metadata": {},
   "outputs": [],
   "source": [
    "# By doing so, I notice that the columns that have a phrase as a name \n",
    "# don't look well, so I'm going to change that\n",
    "\n",
    "new_name = data.columns.values\n",
    "for i,aux in enumerate(data.columns.values):\n",
    "    if(aux[-2:]=='id'):\n",
    "        new_name[i] = aux[:-2] + '_' + 'id'\n",
    "    if(aux[-3:]=='day'):\n",
    "        new_name[i] = aux[:-3] + '_' + 'day'"
   ]
  },
  {
   "cell_type": "code",
   "execution_count": 5,
   "metadata": {},
   "outputs": [
    {
     "data": {
      "text/plain": [
       "Index(['patient_id', 'appointment_id', 'gender', 'scheduled_day',\n",
       "       'appointment_day', 'age', 'neighbourhood', 'scholarship',\n",
       "       'hipertension', 'diabetes', 'alcoholism', 'handcap', 'sms_received',\n",
       "       'no-show'],\n",
       "      dtype='object')"
      ]
     },
     "execution_count": 5,
     "metadata": {},
     "output_type": "execute_result"
    }
   ],
   "source": [
    "#We save the changes:\n",
    "\n",
    "data.columns = new_name\n",
    "data.columns"
   ]
  },
  {
   "cell_type": "code",
   "execution_count": 6,
   "metadata": {},
   "outputs": [
    {
     "data": {
      "text/plain": [
       "Index(['patient_id', 'appointment_id', 'gender', 'scheduled_day',\n",
       "       'appointment_day', 'age', 'neighbourhood', 'scholarship',\n",
       "       'hipertension', 'diabetes', 'alcoholism', 'handcap', 'sms_received',\n",
       "       'no_show'],\n",
       "      dtype='object')"
      ]
     },
     "execution_count": 6,
     "metadata": {},
     "output_type": "execute_result"
    }
   ],
   "source": [
    "# I should also replace the dash in no-show by an underscore\n",
    "\n",
    "data.rename(columns = lambda x:x.replace('-','_'),inplace = True)\n",
    "data.columns"
   ]
  },
  {
   "cell_type": "code",
   "execution_count": 7,
   "metadata": {},
   "outputs": [
    {
     "data": {
      "text/plain": [
       "patient_id         float64\n",
       "appointment_id       int64\n",
       "gender              object\n",
       "scheduled_day       object\n",
       "appointment_day     object\n",
       "age                  int64\n",
       "neighbourhood       object\n",
       "scholarship          int64\n",
       "hipertension         int64\n",
       "diabetes             int64\n",
       "alcoholism           int64\n",
       "handcap              int64\n",
       "sms_received         int64\n",
       "no_show             object\n",
       "dtype: object"
      ]
     },
     "execution_count": 7,
     "metadata": {},
     "output_type": "execute_result"
    }
   ],
   "source": [
    "# Now I am going to check the datatypes:\n",
    "\n",
    "data.dtypes"
   ]
  },
  {
   "cell_type": "code",
   "execution_count": 8,
   "metadata": {},
   "outputs": [
    {
     "data": {
      "text/plain": [
       "patient_id                  int64\n",
       "appointment_id              int64\n",
       "gender                     object\n",
       "scheduled_day      datetime64[ns]\n",
       "appointment_day    datetime64[ns]\n",
       "age                         int64\n",
       "neighbourhood              object\n",
       "scholarship                 int64\n",
       "hipertension                int64\n",
       "diabetes                    int64\n",
       "alcoholism                  int64\n",
       "handcap                     int64\n",
       "sms_received                int64\n",
       "no_show                    object\n",
       "dtype: object"
      ]
     },
     "execution_count": 8,
     "metadata": {},
     "output_type": "execute_result"
    }
   ],
   "source": [
    "# We notice that we are saving the patient_id as float, which shouldn't be the case. \n",
    "# Instead we are going to change that to string type or as integer.\n",
    "# We also are able to see that we should have the dates as DateTime.\n",
    "\n",
    "data['patient_id'] = data['patient_id'].astype(int)\n",
    "data['scheduled_day'] = pd.to_datetime(data['scheduled_day'])\n",
    "data['appointment_day'] = pd.to_datetime(data['appointment_day'])\n",
    "data.dtypes"
   ]
  },
  {
   "cell_type": "code",
   "execution_count": 9,
   "metadata": {},
   "outputs": [
    {
     "data": {
      "text/html": [
       "<div>\n",
       "<style scoped>\n",
       "    .dataframe tbody tr th:only-of-type {\n",
       "        vertical-align: middle;\n",
       "    }\n",
       "\n",
       "    .dataframe tbody tr th {\n",
       "        vertical-align: top;\n",
       "    }\n",
       "\n",
       "    .dataframe thead th {\n",
       "        text-align: right;\n",
       "    }\n",
       "</style>\n",
       "<table border=\"1\" class=\"dataframe\">\n",
       "  <thead>\n",
       "    <tr style=\"text-align: right;\">\n",
       "      <th></th>\n",
       "      <th>patient_id</th>\n",
       "      <th>appointment_id</th>\n",
       "      <th>gender</th>\n",
       "      <th>scheduled_day</th>\n",
       "      <th>appointment_day</th>\n",
       "      <th>age</th>\n",
       "      <th>neighbourhood</th>\n",
       "      <th>scholarship</th>\n",
       "      <th>hipertension</th>\n",
       "      <th>diabetes</th>\n",
       "      <th>alcoholism</th>\n",
       "      <th>handcap</th>\n",
       "      <th>sms_received</th>\n",
       "      <th>no_show</th>\n",
       "    </tr>\n",
       "  </thead>\n",
       "  <tbody>\n",
       "    <tr>\n",
       "      <th>0</th>\n",
       "      <td>29872499824296</td>\n",
       "      <td>5642903</td>\n",
       "      <td>F</td>\n",
       "      <td>2016-04-29 18:38:08</td>\n",
       "      <td>2016-04-29</td>\n",
       "      <td>62</td>\n",
       "      <td>JARDIM DA PENHA</td>\n",
       "      <td>0</td>\n",
       "      <td>1</td>\n",
       "      <td>0</td>\n",
       "      <td>0</td>\n",
       "      <td>0</td>\n",
       "      <td>0</td>\n",
       "      <td>No</td>\n",
       "    </tr>\n",
       "    <tr>\n",
       "      <th>1</th>\n",
       "      <td>558997776694438</td>\n",
       "      <td>5642503</td>\n",
       "      <td>M</td>\n",
       "      <td>2016-04-29 16:08:27</td>\n",
       "      <td>2016-04-29</td>\n",
       "      <td>56</td>\n",
       "      <td>JARDIM DA PENHA</td>\n",
       "      <td>0</td>\n",
       "      <td>0</td>\n",
       "      <td>0</td>\n",
       "      <td>0</td>\n",
       "      <td>0</td>\n",
       "      <td>0</td>\n",
       "      <td>No</td>\n",
       "    </tr>\n",
       "    <tr>\n",
       "      <th>2</th>\n",
       "      <td>4262962299951</td>\n",
       "      <td>5642549</td>\n",
       "      <td>F</td>\n",
       "      <td>2016-04-29 16:19:04</td>\n",
       "      <td>2016-04-29</td>\n",
       "      <td>62</td>\n",
       "      <td>MATA DA PRAIA</td>\n",
       "      <td>0</td>\n",
       "      <td>0</td>\n",
       "      <td>0</td>\n",
       "      <td>0</td>\n",
       "      <td>0</td>\n",
       "      <td>0</td>\n",
       "      <td>No</td>\n",
       "    </tr>\n",
       "  </tbody>\n",
       "</table>\n",
       "</div>"
      ],
      "text/plain": [
       "        patient_id  appointment_id gender       scheduled_day appointment_day  \\\n",
       "0   29872499824296         5642903      F 2016-04-29 18:38:08      2016-04-29   \n",
       "1  558997776694438         5642503      M 2016-04-29 16:08:27      2016-04-29   \n",
       "2    4262962299951         5642549      F 2016-04-29 16:19:04      2016-04-29   \n",
       "\n",
       "   age    neighbourhood  scholarship  hipertension  diabetes  alcoholism  \\\n",
       "0   62  JARDIM DA PENHA            0             1         0           0   \n",
       "1   56  JARDIM DA PENHA            0             0         0           0   \n",
       "2   62    MATA DA PRAIA            0             0         0           0   \n",
       "\n",
       "   handcap  sms_received no_show  \n",
       "0        0             0      No  \n",
       "1        0             0      No  \n",
       "2        0             0      No  "
      ]
     },
     "execution_count": 9,
     "metadata": {},
     "output_type": "execute_result"
    }
   ],
   "source": [
    "#We confirm that the new representation is correct:\n",
    "data.head(3)"
   ]
  },
  {
   "cell_type": "markdown",
   "metadata": {},
   "source": [
    "### Duplicates and null values\n",
    "After confirming that my columns are the way I prefer, I can safely start checking the other two most common types of errors:"
   ]
  },
  {
   "cell_type": "code",
   "execution_count": 10,
   "metadata": {},
   "outputs": [
    {
     "name": "stdout",
     "output_type": "stream",
     "text": [
      "<class 'pandas.core.frame.DataFrame'>\n",
      "RangeIndex: 110527 entries, 0 to 110526\n",
      "Data columns (total 14 columns):\n",
      "patient_id         110527 non-null int64\n",
      "appointment_id     110527 non-null int64\n",
      "gender             110527 non-null object\n",
      "scheduled_day      110527 non-null datetime64[ns]\n",
      "appointment_day    110527 non-null datetime64[ns]\n",
      "age                110527 non-null int64\n",
      "neighbourhood      110527 non-null object\n",
      "scholarship        110527 non-null int64\n",
      "hipertension       110527 non-null int64\n",
      "diabetes           110527 non-null int64\n",
      "alcoholism         110527 non-null int64\n",
      "handcap            110527 non-null int64\n",
      "sms_received       110527 non-null int64\n",
      "no_show            110527 non-null object\n",
      "dtypes: datetime64[ns](2), int64(9), object(3)\n",
      "memory usage: 11.8+ MB\n"
     ]
    }
   ],
   "source": [
    "#We are going to start with the null values:\n",
    "\n",
    "data.info()"
   ]
  },
  {
   "cell_type": "code",
   "execution_count": 11,
   "metadata": {},
   "outputs": [
    {
     "data": {
      "text/plain": [
       "(110527, 14)"
      ]
     },
     "execution_count": 11,
     "metadata": {},
     "output_type": "execute_result"
    }
   ],
   "source": [
    "# We see that all values are complete, we confirm that by:\n",
    "# 1) Comparing it with the shape of the DataFrame\n",
    "data.shape"
   ]
  },
  {
   "cell_type": "code",
   "execution_count": 12,
   "metadata": {},
   "outputs": [
    {
     "data": {
      "text/plain": [
       "0"
      ]
     },
     "execution_count": 12,
     "metadata": {},
     "output_type": "execute_result"
    }
   ],
   "source": [
    "# or by 2) Using pandas:\n",
    "sum(data.isnull().any(axis=1))"
   ]
  },
  {
   "cell_type": "code",
   "execution_count": 13,
   "metadata": {},
   "outputs": [
    {
     "data": {
      "text/plain": [
       "0"
      ]
     },
     "execution_count": 13,
     "metadata": {},
     "output_type": "execute_result"
    }
   ],
   "source": [
    "# So it definetely does not have any null values. \n",
    "# Now let's check for duplicates:\n",
    "# Let's use a basic pandas command:\n",
    "\n",
    "sum(data.duplicated())"
   ]
  },
  {
   "cell_type": "code",
   "execution_count": 14,
   "metadata": {},
   "outputs": [
    {
     "data": {
      "text/plain": [
       "patient_id          62299\n",
       "appointment_id     110527\n",
       "gender                  2\n",
       "scheduled_day      103549\n",
       "appointment_day        27\n",
       "age                   104\n",
       "neighbourhood          81\n",
       "scholarship             2\n",
       "hipertension            2\n",
       "diabetes                2\n",
       "alcoholism              2\n",
       "handcap                 5\n",
       "sms_received            2\n",
       "no_show                 2\n",
       "dtype: int64"
      ]
     },
     "execution_count": 14,
     "metadata": {},
     "output_type": "execute_result"
    }
   ],
   "source": [
    "# We see that there are no two rows that are identical, \n",
    "# but what about the possible values?\n",
    "data.nunique()"
   ]
  },
  {
   "cell_type": "markdown",
   "metadata": {},
   "source": [
    "### Data Cleaning\n",
    "\n",
    "Now that we've checked duplicates and null values, I'm going to start cleaning focusing on the questions that I've asked. That is, I'm going to drop some columns. I will maintain the original data in other variable just in case.\n",
    "<br>\n",
    "And instead of using scheduled_day and appointment_day. To answer the questions that I've asked I'm going to use the difference between the days instead."
   ]
  },
  {
   "cell_type": "code",
   "execution_count": 15,
   "metadata": {},
   "outputs": [],
   "source": [
    "#We add the new column as an integer in other variable\n",
    "#We do so in order just in case.\n",
    "\n",
    "data_modif = data\n",
    "data_modif['diff_app'] = data_modif.appointment_day - data_modif.scheduled_day\n",
    "data_modif['diff_app'] = (data_modif.diff_app / np.timedelta64(1, 'D')).astype(int)\n",
    "# diff_app stands for difference in the appointment"
   ]
  },
  {
   "cell_type": "code",
   "execution_count": 16,
   "metadata": {},
   "outputs": [
    {
     "data": {
      "text/plain": [
       "count    110527.000000\n",
       "mean          9.532648\n",
       "std          15.027798\n",
       "min          -6.000000\n",
       "25%           0.000000\n",
       "50%           3.000000\n",
       "75%          14.000000\n",
       "max         178.000000\n",
       "Name: diff_app, dtype: float64"
      ]
     },
     "execution_count": 16,
     "metadata": {},
     "output_type": "execute_result"
    }
   ],
   "source": [
    "#We verify that the values are ok:\n",
    "data_modif.diff_app.describe()"
   ]
  },
  {
   "cell_type": "code",
   "execution_count": 17,
   "metadata": {
    "scrolled": true
   },
   "outputs": [
    {
     "data": {
      "text/html": [
       "<div>\n",
       "<style scoped>\n",
       "    .dataframe tbody tr th:only-of-type {\n",
       "        vertical-align: middle;\n",
       "    }\n",
       "\n",
       "    .dataframe tbody tr th {\n",
       "        vertical-align: top;\n",
       "    }\n",
       "\n",
       "    .dataframe thead th {\n",
       "        text-align: right;\n",
       "    }\n",
       "</style>\n",
       "<table border=\"1\" class=\"dataframe\">\n",
       "  <thead>\n",
       "    <tr style=\"text-align: right;\">\n",
       "      <th></th>\n",
       "      <th>patient_id</th>\n",
       "      <th>appointment_id</th>\n",
       "      <th>gender</th>\n",
       "      <th>scheduled_day</th>\n",
       "      <th>appointment_day</th>\n",
       "      <th>age</th>\n",
       "      <th>neighbourhood</th>\n",
       "      <th>scholarship</th>\n",
       "      <th>hipertension</th>\n",
       "      <th>diabetes</th>\n",
       "      <th>alcoholism</th>\n",
       "      <th>handcap</th>\n",
       "      <th>sms_received</th>\n",
       "      <th>no_show</th>\n",
       "      <th>diff_app</th>\n",
       "    </tr>\n",
       "  </thead>\n",
       "  <tbody>\n",
       "    <tr>\n",
       "      <th>27033</th>\n",
       "      <td>7839272661752</td>\n",
       "      <td>5679978</td>\n",
       "      <td>M</td>\n",
       "      <td>2016-05-10 10:51:53</td>\n",
       "      <td>2016-05-09</td>\n",
       "      <td>38</td>\n",
       "      <td>RESISTÊNCIA</td>\n",
       "      <td>0</td>\n",
       "      <td>0</td>\n",
       "      <td>0</td>\n",
       "      <td>0</td>\n",
       "      <td>1</td>\n",
       "      <td>0</td>\n",
       "      <td>Yes</td>\n",
       "      <td>-1</td>\n",
       "    </tr>\n",
       "    <tr>\n",
       "      <th>55226</th>\n",
       "      <td>7896293967868</td>\n",
       "      <td>5715660</td>\n",
       "      <td>F</td>\n",
       "      <td>2016-05-18 14:50:41</td>\n",
       "      <td>2016-05-17</td>\n",
       "      <td>19</td>\n",
       "      <td>SANTO ANTÔNIO</td>\n",
       "      <td>0</td>\n",
       "      <td>0</td>\n",
       "      <td>0</td>\n",
       "      <td>0</td>\n",
       "      <td>1</td>\n",
       "      <td>0</td>\n",
       "      <td>Yes</td>\n",
       "      <td>-1</td>\n",
       "    </tr>\n",
       "    <tr>\n",
       "      <th>64175</th>\n",
       "      <td>24252258389979</td>\n",
       "      <td>5664962</td>\n",
       "      <td>F</td>\n",
       "      <td>2016-05-05 13:43:58</td>\n",
       "      <td>2016-05-04</td>\n",
       "      <td>22</td>\n",
       "      <td>CONSOLAÇÃO</td>\n",
       "      <td>0</td>\n",
       "      <td>0</td>\n",
       "      <td>0</td>\n",
       "      <td>0</td>\n",
       "      <td>0</td>\n",
       "      <td>0</td>\n",
       "      <td>Yes</td>\n",
       "      <td>-1</td>\n",
       "    </tr>\n",
       "    <tr>\n",
       "      <th>71533</th>\n",
       "      <td>998231581612122</td>\n",
       "      <td>5686628</td>\n",
       "      <td>F</td>\n",
       "      <td>2016-05-11 13:49:20</td>\n",
       "      <td>2016-05-05</td>\n",
       "      <td>81</td>\n",
       "      <td>SANTO ANTÔNIO</td>\n",
       "      <td>0</td>\n",
       "      <td>0</td>\n",
       "      <td>0</td>\n",
       "      <td>0</td>\n",
       "      <td>0</td>\n",
       "      <td>0</td>\n",
       "      <td>Yes</td>\n",
       "      <td>-6</td>\n",
       "    </tr>\n",
       "    <tr>\n",
       "      <th>72362</th>\n",
       "      <td>3787481966821</td>\n",
       "      <td>5655637</td>\n",
       "      <td>M</td>\n",
       "      <td>2016-05-04 06:50:57</td>\n",
       "      <td>2016-05-03</td>\n",
       "      <td>7</td>\n",
       "      <td>TABUAZEIRO</td>\n",
       "      <td>0</td>\n",
       "      <td>0</td>\n",
       "      <td>0</td>\n",
       "      <td>0</td>\n",
       "      <td>0</td>\n",
       "      <td>0</td>\n",
       "      <td>Yes</td>\n",
       "      <td>-1</td>\n",
       "    </tr>\n",
       "  </tbody>\n",
       "</table>\n",
       "</div>"
      ],
      "text/plain": [
       "            patient_id  appointment_id gender       scheduled_day  \\\n",
       "27033    7839272661752         5679978      M 2016-05-10 10:51:53   \n",
       "55226    7896293967868         5715660      F 2016-05-18 14:50:41   \n",
       "64175   24252258389979         5664962      F 2016-05-05 13:43:58   \n",
       "71533  998231581612122         5686628      F 2016-05-11 13:49:20   \n",
       "72362    3787481966821         5655637      M 2016-05-04 06:50:57   \n",
       "\n",
       "      appointment_day  age  neighbourhood  scholarship  hipertension  \\\n",
       "27033      2016-05-09   38    RESISTÊNCIA            0             0   \n",
       "55226      2016-05-17   19  SANTO ANTÔNIO            0             0   \n",
       "64175      2016-05-04   22     CONSOLAÇÃO            0             0   \n",
       "71533      2016-05-05   81  SANTO ANTÔNIO            0             0   \n",
       "72362      2016-05-03    7     TABUAZEIRO            0             0   \n",
       "\n",
       "       diabetes  alcoholism  handcap  sms_received no_show  diff_app  \n",
       "27033         0           0        1             0     Yes        -1  \n",
       "55226         0           0        1             0     Yes        -1  \n",
       "64175         0           0        0             0     Yes        -1  \n",
       "71533         0           0        0             0     Yes        -6  \n",
       "72362         0           0        0             0     Yes        -1  "
      ]
     },
     "execution_count": 17,
     "metadata": {},
     "output_type": "execute_result"
    }
   ],
   "source": [
    "#There are some negative values, let's see why that's the case:\n",
    "aux = data_modif[data_modif.diff_app<0]\n",
    "aux"
   ]
  },
  {
   "cell_type": "code",
   "execution_count": 18,
   "metadata": {},
   "outputs": [
    {
     "data": {
      "text/plain": [
       "(110522, 15)"
      ]
     },
     "execution_count": 18,
     "metadata": {},
     "output_type": "execute_result"
    }
   ],
   "source": [
    "# I'm going to drop those columns because they do not make sense\n",
    "data_modif = data_modif[data_modif.diff_app >= 0]\n",
    "data_modif.shape"
   ]
  },
  {
   "cell_type": "code",
   "execution_count": 19,
   "metadata": {},
   "outputs": [],
   "source": [
    "# Now I'm going to start dropping the columns that I'm not going to use:\n",
    "# We drop the other two columns related to dates:\n",
    "data_modif = data_modif.drop(['scheduled_day','appointment_day'],axis=1)"
   ]
  },
  {
   "cell_type": "code",
   "execution_count": 20,
   "metadata": {},
   "outputs": [
    {
     "data": {
      "text/html": [
       "<div>\n",
       "<style scoped>\n",
       "    .dataframe tbody tr th:only-of-type {\n",
       "        vertical-align: middle;\n",
       "    }\n",
       "\n",
       "    .dataframe tbody tr th {\n",
       "        vertical-align: top;\n",
       "    }\n",
       "\n",
       "    .dataframe thead th {\n",
       "        text-align: right;\n",
       "    }\n",
       "</style>\n",
       "<table border=\"1\" class=\"dataframe\">\n",
       "  <thead>\n",
       "    <tr style=\"text-align: right;\">\n",
       "      <th></th>\n",
       "      <th>patient_id</th>\n",
       "      <th>appointment_id</th>\n",
       "      <th>gender</th>\n",
       "      <th>age</th>\n",
       "      <th>neighbourhood</th>\n",
       "      <th>scholarship</th>\n",
       "      <th>hipertension</th>\n",
       "      <th>diabetes</th>\n",
       "      <th>alcoholism</th>\n",
       "      <th>handcap</th>\n",
       "      <th>sms_received</th>\n",
       "      <th>no_show</th>\n",
       "      <th>diff_app</th>\n",
       "    </tr>\n",
       "  </thead>\n",
       "  <tbody>\n",
       "    <tr>\n",
       "      <th>0</th>\n",
       "      <td>29872499824296</td>\n",
       "      <td>5642903</td>\n",
       "      <td>F</td>\n",
       "      <td>62</td>\n",
       "      <td>JARDIM DA PENHA</td>\n",
       "      <td>0</td>\n",
       "      <td>1</td>\n",
       "      <td>0</td>\n",
       "      <td>0</td>\n",
       "      <td>0</td>\n",
       "      <td>0</td>\n",
       "      <td>No</td>\n",
       "      <td>0</td>\n",
       "    </tr>\n",
       "  </tbody>\n",
       "</table>\n",
       "</div>"
      ],
      "text/plain": [
       "       patient_id  appointment_id gender  age    neighbourhood  scholarship  \\\n",
       "0  29872499824296         5642903      F   62  JARDIM DA PENHA            0   \n",
       "\n",
       "   hipertension  diabetes  alcoholism  handcap  sms_received no_show  diff_app  \n",
       "0             1         0           0        0             0      No         0  "
      ]
     },
     "execution_count": 20,
     "metadata": {},
     "output_type": "execute_result"
    }
   ],
   "source": [
    "#We check that everything is fine:\n",
    "data_modif.head(1)"
   ]
  },
  {
   "cell_type": "code",
   "execution_count": 21,
   "metadata": {
    "scrolled": true
   },
   "outputs": [
    {
     "data": {
      "text/html": [
       "<div>\n",
       "<style scoped>\n",
       "    .dataframe tbody tr th:only-of-type {\n",
       "        vertical-align: middle;\n",
       "    }\n",
       "\n",
       "    .dataframe tbody tr th {\n",
       "        vertical-align: top;\n",
       "    }\n",
       "\n",
       "    .dataframe thead th {\n",
       "        text-align: right;\n",
       "    }\n",
       "</style>\n",
       "<table border=\"1\" class=\"dataframe\">\n",
       "  <thead>\n",
       "    <tr style=\"text-align: right;\">\n",
       "      <th></th>\n",
       "      <th>patient_id</th>\n",
       "      <th>gender</th>\n",
       "      <th>age</th>\n",
       "      <th>sms_received</th>\n",
       "      <th>no_show</th>\n",
       "      <th>diff_app</th>\n",
       "    </tr>\n",
       "  </thead>\n",
       "  <tbody>\n",
       "    <tr>\n",
       "      <th>0</th>\n",
       "      <td>29872499824296</td>\n",
       "      <td>F</td>\n",
       "      <td>62</td>\n",
       "      <td>0</td>\n",
       "      <td>No</td>\n",
       "      <td>0</td>\n",
       "    </tr>\n",
       "  </tbody>\n",
       "</table>\n",
       "</div>"
      ],
      "text/plain": [
       "       patient_id gender  age  sms_received no_show  diff_app\n",
       "0  29872499824296      F   62             0      No         0"
      ]
     },
     "execution_count": 21,
     "metadata": {},
     "output_type": "execute_result"
    }
   ],
   "source": [
    "#Finally, I will drop the other columns that I am not going to use.\n",
    "data_modif = data_modif.drop(['appointment_id','neighbourhood','scholarship'],axis=1)\n",
    "data_modif = data_modif.drop(['alcoholism','handcap','hipertension','diabetes'],axis=1)\n",
    "data_modif.head(1)"
   ]
  },
  {
   "cell_type": "markdown",
   "metadata": {},
   "source": [
    "With this we can start analysing the data. There could be some extra cleaning steps that I might encounter while making the analysis, but I will handle that in the exploratory analysis."
   ]
  },
  {
   "cell_type": "markdown",
   "metadata": {},
   "source": [
    "<a id='eda'></a>\n",
    "## Exploratory Data Analysis"
   ]
  },
  {
   "cell_type": "markdown",
   "metadata": {},
   "source": [
    "<a id = 'quest1'></a>\n",
    "### Research Question 1: Is the age related to wether the patient attends the appointment or not?"
   ]
  },
  {
   "cell_type": "code",
   "execution_count": 22,
   "metadata": {},
   "outputs": [
    {
     "data": {
      "text/plain": [
       "count    110522.000000\n",
       "mean         37.089041\n",
       "std          23.110064\n",
       "min          -1.000000\n",
       "25%          18.000000\n",
       "50%          37.000000\n",
       "75%          55.000000\n",
       "max         115.000000\n",
       "Name: age, dtype: float64"
      ]
     },
     "execution_count": 22,
     "metadata": {},
     "output_type": "execute_result"
    }
   ],
   "source": [
    "#First, in what range varies the age?\n",
    "data_modif['age'].describe()"
   ]
  },
  {
   "cell_type": "code",
   "execution_count": 23,
   "metadata": {},
   "outputs": [
    {
     "data": {
      "text/plain": [
       "(1, 6)"
      ]
     },
     "execution_count": 23,
     "metadata": {},
     "output_type": "execute_result"
    }
   ],
   "source": [
    "#The -1 is something strange, the min age is -1, how is that possible?\n",
    "aux = data_modif[data_modif['age'] == -1]\n",
    "aux.shape"
   ]
  },
  {
   "cell_type": "code",
   "execution_count": 24,
   "metadata": {},
   "outputs": [
    {
     "data": {
      "text/html": [
       "<div>\n",
       "<style scoped>\n",
       "    .dataframe tbody tr th:only-of-type {\n",
       "        vertical-align: middle;\n",
       "    }\n",
       "\n",
       "    .dataframe tbody tr th {\n",
       "        vertical-align: top;\n",
       "    }\n",
       "\n",
       "    .dataframe thead th {\n",
       "        text-align: right;\n",
       "    }\n",
       "</style>\n",
       "<table border=\"1\" class=\"dataframe\">\n",
       "  <thead>\n",
       "    <tr style=\"text-align: right;\">\n",
       "      <th></th>\n",
       "      <th>patient_id</th>\n",
       "      <th>gender</th>\n",
       "      <th>age</th>\n",
       "      <th>sms_received</th>\n",
       "      <th>no_show</th>\n",
       "      <th>diff_app</th>\n",
       "    </tr>\n",
       "  </thead>\n",
       "  <tbody>\n",
       "    <tr>\n",
       "      <th>99832</th>\n",
       "      <td>465943158731293</td>\n",
       "      <td>F</td>\n",
       "      <td>-1</td>\n",
       "      <td>0</td>\n",
       "      <td>No</td>\n",
       "      <td>0</td>\n",
       "    </tr>\n",
       "  </tbody>\n",
       "</table>\n",
       "</div>"
      ],
      "text/plain": [
       "            patient_id gender  age  sms_received no_show  diff_app\n",
       "99832  465943158731293      F   -1             0      No         0"
      ]
     },
     "execution_count": 24,
     "metadata": {},
     "output_type": "execute_result"
    }
   ],
   "source": [
    "#There is only one value, so let's see that case:\n",
    "aux"
   ]
  },
  {
   "cell_type": "markdown",
   "metadata": {},
   "source": [
    "I'm going to check if this person has any other appointment so that we can correct her age. To do that I'm going to need the original data."
   ]
  },
  {
   "cell_type": "code",
   "execution_count": 25,
   "metadata": {},
   "outputs": [
    {
     "data": {
      "text/html": [
       "<div>\n",
       "<style scoped>\n",
       "    .dataframe tbody tr th:only-of-type {\n",
       "        vertical-align: middle;\n",
       "    }\n",
       "\n",
       "    .dataframe tbody tr th {\n",
       "        vertical-align: top;\n",
       "    }\n",
       "\n",
       "    .dataframe thead th {\n",
       "        text-align: right;\n",
       "    }\n",
       "</style>\n",
       "<table border=\"1\" class=\"dataframe\">\n",
       "  <thead>\n",
       "    <tr style=\"text-align: right;\">\n",
       "      <th></th>\n",
       "      <th>patient_id</th>\n",
       "      <th>gender</th>\n",
       "      <th>age</th>\n",
       "      <th>sms_received</th>\n",
       "      <th>no_show</th>\n",
       "      <th>diff_app</th>\n",
       "    </tr>\n",
       "  </thead>\n",
       "  <tbody>\n",
       "    <tr>\n",
       "      <th>99832</th>\n",
       "      <td>465943158731293</td>\n",
       "      <td>F</td>\n",
       "      <td>-1</td>\n",
       "      <td>0</td>\n",
       "      <td>No</td>\n",
       "      <td>0</td>\n",
       "    </tr>\n",
       "  </tbody>\n",
       "</table>\n",
       "</div>"
      ],
      "text/plain": [
       "            patient_id gender  age  sms_received no_show  diff_app\n",
       "99832  465943158731293      F   -1             0      No         0"
      ]
     },
     "execution_count": 25,
     "metadata": {},
     "output_type": "execute_result"
    }
   ],
   "source": [
    "#Let's check is this patient has any other appointment:\n",
    "aux_0 = data_modif[data_modif.age == -1]\n",
    "data_modif[data_modif.patient_id == aux_0.patient_id.iloc[0]]"
   ]
  },
  {
   "cell_type": "code",
   "execution_count": 26,
   "metadata": {},
   "outputs": [
    {
     "data": {
      "text/plain": [
       "count    110521.000000\n",
       "mean         37.089386\n",
       "std          23.109885\n",
       "min           0.000000\n",
       "25%          18.000000\n",
       "50%          37.000000\n",
       "75%          55.000000\n",
       "max         115.000000\n",
       "Name: age, dtype: float64"
      ]
     },
     "execution_count": 26,
     "metadata": {},
     "output_type": "execute_result"
    }
   ],
   "source": [
    "# Even though her age is not possible, there is nothing weird about the other columns\n",
    "# And we do not have any other information about her that we can contrast with.\n",
    "# So it could have been a mistake. Let's ignore this row by now.\n",
    "data_modif = data_modif[data_modif.age != -1]\n",
    "data_modif.age.describe()"
   ]
  },
  {
   "cell_type": "code",
   "execution_count": 27,
   "metadata": {},
   "outputs": [],
   "source": [
    "# The other ages look reasonable, let's now make a bar graph to see if there\n",
    "# is any relation between the age and the assitance.\n",
    "\n",
    "# We are going to repeat three things over and over:\n",
    "# The division into ages\n",
    "# The normalization of the tables\n",
    "# The graph procedure\n",
    "# So let's make functions for each one of them\n",
    "\n",
    "#First: division into ages:\n",
    "def div_ages(array,x_div):\n",
    "    return pd.cut(array.age,x_div,right = False).value_counts(sort = False)"
   ]
  },
  {
   "cell_type": "code",
   "execution_count": 28,
   "metadata": {},
   "outputs": [],
   "source": [
    "#Normalization or proportion\n",
    "def proc(array,x_div):\n",
    "    \n",
    "    #We divide and group by ages:\n",
    "    array_ages = div_ages(array,x_div)\n",
    "    \n",
    "    #Who missed the appointment?\n",
    "    array_missed = array[array.no_show == 'Yes']\n",
    "    \n",
    "    #Now we group them by ages.\n",
    "    array_gr = div_ages(array_missed,x_div)\n",
    "    \n",
    "    #We should only consider proportion:\n",
    "    array_prop = array_gr/array_ages\n",
    "    \n",
    "    #To avoid NaN values caused by division:\n",
    "    array_prop.fillna(0,inplace = True)\n",
    "    \n",
    "    return array_prop"
   ]
  },
  {
   "cell_type": "code",
   "execution_count": 29,
   "metadata": {},
   "outputs": [],
   "source": [
    "# I create two extra functions to create the divisions\n",
    "# in order to maintain the main function as clear as possible\n",
    "def create_x_div():\n",
    "    arr = np.linspace(data_modif.age.min(),120,21)\n",
    "    return arr.astype(int)"
   ]
  },
  {
   "cell_type": "code",
   "execution_count": 30,
   "metadata": {},
   "outputs": [],
   "source": [
    "def create_x_axis(x_d):\n",
    "    arr = x_d[1:]\n",
    "    return arr.astype(int)"
   ]
  },
  {
   "cell_type": "code",
   "execution_count": 31,
   "metadata": {},
   "outputs": [],
   "source": [
    "# Finally, the graph:\n",
    "def gr_ages(title,x,y,array1,name1,col1,array2 = [], name2 = None,col2 = None):\n",
    "    \n",
    "    x_div = create_x_div()\n",
    "    \n",
    "    array_prop1 = proc(array1,x_div)\n",
    "    if(type(array2)!=list):\n",
    "        array_prop2 = proc(array2,x_div)\n",
    "    \n",
    "    #Now we graph:\n",
    "    #First we need some values:\n",
    "    x_axis = create_x_axis(x_div) \n",
    "    width = (120)/20\n",
    "    y_ticks = np.around(np.linspace(0,1,11),decimals = 1)\n",
    "    \n",
    "    #Now that we have the values, let's graph it:\n",
    "    plt.figure(figsize = (15,15))\n",
    "    plt.title(title,fontsize = 25)\n",
    "    \n",
    "    plt.bar(x_axis - width/2, array_prop1.values, width, alpha=0.5, label = name1, color = col1)\n",
    "    if(type(array2)!=list):\n",
    "        plt.bar(x_axis - width/2, array_prop2.values,width,alpha= 0.5, label = name2,color = col2)\n",
    "    \n",
    "    plt.xlabel(x,fontsize = 20)\n",
    "    plt.ylabel(y, fontsize = 20)\n",
    "    \n",
    "    plt.xticks(x_div,x_div,fontsize = 15)\n",
    "    plt.yticks(y_ticks,y_ticks,fontsize = 15)\n",
    "    \n",
    "    plt.legend(fontsize = 15)\n",
    "    "
   ]
  },
  {
   "cell_type": "code",
   "execution_count": 32,
   "metadata": {},
   "outputs": [
    {
     "data": {
      "image/png": "[encoded data removed]",
      "text/plain": [
       "<Figure size 1080x1080 with 1 Axes>"
      ]
     },
     "metadata": {
      "needs_background": "light"
     },
     "output_type": "display_data"
    }
   ],
   "source": [
    "#Now, let's use that function:\n",
    "\n",
    "gr_ages('Attendance rate comparison by age','Age','Attendance rate',data_modif,'Missed the appointment','r')   "
   ]
  },
  {
   "cell_type": "markdown",
   "metadata": {},
   "source": [
    "There are some observations to make here:\n",
    "<ul>\n",
    "    <li> The only bar that has more no assistance over assistance is the last one (more than 0.5). We should review how many people are there to check whether we could make any conclusion or not. </li>\n",
    "    <li> There is a peak between 12 and 18 years. </li>\n",
    "    <li> There is a (local) peak between 90 and 96 years.</li>\n",
    "</ul>\n",
    "I am going to explore each of them in the following cells."
   ]
  },
  {
   "cell_type": "code",
   "execution_count": 33,
   "metadata": {},
   "outputs": [
    {
     "data": {
      "text/plain": [
       "(5, 6)"
      ]
     },
     "execution_count": 33,
     "metadata": {},
     "output_type": "execute_result"
    }
   ],
   "source": [
    "#First, from 114 to 120 years:\n",
    "temp = data_modif[data_modif.age>=114]\n",
    "temp.shape"
   ]
  },
  {
   "cell_type": "code",
   "execution_count": 34,
   "metadata": {},
   "outputs": [
    {
     "data": {
      "text/html": [
       "<div>\n",
       "<style scoped>\n",
       "    .dataframe tbody tr th:only-of-type {\n",
       "        vertical-align: middle;\n",
       "    }\n",
       "\n",
       "    .dataframe tbody tr th {\n",
       "        vertical-align: top;\n",
       "    }\n",
       "\n",
       "    .dataframe thead th {\n",
       "        text-align: right;\n",
       "    }\n",
       "</style>\n",
       "<table border=\"1\" class=\"dataframe\">\n",
       "  <thead>\n",
       "    <tr style=\"text-align: right;\">\n",
       "      <th></th>\n",
       "      <th>patient_id</th>\n",
       "      <th>gender</th>\n",
       "      <th>age</th>\n",
       "      <th>sms_received</th>\n",
       "      <th>no_show</th>\n",
       "      <th>diff_app</th>\n",
       "    </tr>\n",
       "  </thead>\n",
       "  <tbody>\n",
       "    <tr>\n",
       "      <th>63912</th>\n",
       "      <td>31963211613981</td>\n",
       "      <td>F</td>\n",
       "      <td>115</td>\n",
       "      <td>0</td>\n",
       "      <td>Yes</td>\n",
       "      <td>2</td>\n",
       "    </tr>\n",
       "    <tr>\n",
       "      <th>63915</th>\n",
       "      <td>31963211613981</td>\n",
       "      <td>F</td>\n",
       "      <td>115</td>\n",
       "      <td>0</td>\n",
       "      <td>Yes</td>\n",
       "      <td>2</td>\n",
       "    </tr>\n",
       "    <tr>\n",
       "      <th>68127</th>\n",
       "      <td>31963211613981</td>\n",
       "      <td>F</td>\n",
       "      <td>115</td>\n",
       "      <td>0</td>\n",
       "      <td>Yes</td>\n",
       "      <td>37</td>\n",
       "    </tr>\n",
       "    <tr>\n",
       "      <th>76284</th>\n",
       "      <td>31963211613981</td>\n",
       "      <td>F</td>\n",
       "      <td>115</td>\n",
       "      <td>0</td>\n",
       "      <td>No</td>\n",
       "      <td>0</td>\n",
       "    </tr>\n",
       "    <tr>\n",
       "      <th>97666</th>\n",
       "      <td>748234579244724</td>\n",
       "      <td>F</td>\n",
       "      <td>115</td>\n",
       "      <td>1</td>\n",
       "      <td>No</td>\n",
       "      <td>14</td>\n",
       "    </tr>\n",
       "  </tbody>\n",
       "</table>\n",
       "</div>"
      ],
      "text/plain": [
       "            patient_id gender  age  sms_received no_show  diff_app\n",
       "63912   31963211613981      F  115             0     Yes         2\n",
       "63915   31963211613981      F  115             0     Yes         2\n",
       "68127   31963211613981      F  115             0     Yes        37\n",
       "76284   31963211613981      F  115             0      No         0\n",
       "97666  748234579244724      F  115             1      No        14"
      ]
     },
     "execution_count": 34,
     "metadata": {},
     "output_type": "execute_result"
    }
   ],
   "source": [
    "#We notice that there are only 5 values, let's explore them more:\n",
    "temp"
   ]
  },
  {
   "cell_type": "markdown",
   "metadata": {},
   "source": [
    "We see that 4 out of 5 appointments are of the same patient, if we make any conclusion it would be about an specific person instead of a group of people. Even more, there is not enough data to conclude anything, so we can't make any conclusions about this group."
   ]
  },
  {
   "cell_type": "code",
   "execution_count": 35,
   "metadata": {},
   "outputs": [],
   "source": [
    "# Since we are going to restrict ourselves to some ages multiple times and \n",
    "# we are going to get the average a lot, let's make those functions:\n",
    "\n",
    "def rest_age(low,top):\n",
    "    return data_modif[(data_modif.age>= low) & (data_modif.age<top)]\n",
    "\n",
    "def avg_no_show(arr):\n",
    "    no_s = arr[arr.no_show =='Yes'].count()/arr.shape[0]\n",
    "    return no_s.iloc[0] #We use [0] because by using .count() we get the same result in all rows"
   ]
  },
  {
   "cell_type": "code",
   "execution_count": 36,
   "metadata": {},
   "outputs": [
    {
     "data": {
      "text/plain": [
       "(7435, 6)"
      ]
     },
     "execution_count": 36,
     "metadata": {},
     "output_type": "execute_result"
    }
   ],
   "source": [
    "#Now, the group of 12 - 18\n",
    "temp = rest_age(12,18)\n",
    "temp.shape"
   ]
  },
  {
   "cell_type": "code",
   "execution_count": 37,
   "metadata": {},
   "outputs": [
    {
     "data": {
      "text/plain": [
       "0.26388702084734367"
      ]
     },
     "execution_count": 37,
     "metadata": {},
     "output_type": "execute_result"
    }
   ],
   "source": [
    "# We better use statistics instead of checking one by one.\n",
    "prop_show = avg_no_show(temp)\n",
    "prop_show"
   ]
  },
  {
   "cell_type": "code",
   "execution_count": 38,
   "metadata": {},
   "outputs": [
    {
     "data": {
      "text/plain": [
       "0.2018982817745044"
      ]
     },
     "execution_count": 38,
     "metadata": {},
     "output_type": "execute_result"
    }
   ],
   "source": [
    "#Now, let's compare this mean with the general mean:\n",
    "prop_show_tot = avg_no_show(data_modif)\n",
    "prop_show_tot"
   ]
  },
  {
   "cell_type": "markdown",
   "metadata": {},
   "source": [
    "We see that there is a big difference between 0.26 (the average for people between 12 and 18) and the general mean, which is 0.20. But in order to make any conclusion we need inferential stats. \n"
   ]
  },
  {
   "cell_type": "code",
   "execution_count": 39,
   "metadata": {},
   "outputs": [
    {
     "data": {
      "text/plain": [
       "(371, 6)"
      ]
     },
     "execution_count": 39,
     "metadata": {},
     "output_type": "execute_result"
    }
   ],
   "source": [
    "# Now, the next observation:\n",
    "# Let's see how much people are there between 90 and 96\n",
    "temp = rest_age(90,96)\n",
    "temp.shape"
   ]
  },
  {
   "cell_type": "code",
   "execution_count": 40,
   "metadata": {},
   "outputs": [
    {
     "data": {
      "text/plain": [
       "0.21024258760107817"
      ]
     },
     "execution_count": 40,
     "metadata": {},
     "output_type": "execute_result"
    }
   ],
   "source": [
    "# We see that there is a big group of people, so it is not the same case  as the group\n",
    "# between 114 and 120. Let's continue the analysis with the average:\n",
    "avg = avg_no_show(temp)\n",
    "avg"
   ]
  },
  {
   "cell_type": "markdown",
   "metadata": {},
   "source": [
    "We notice that it is not that far away from the mean, but we realized that it was an extreme value because we only compared it to the ages that are near it. So we should do the same with our numeric results. Let's focus on ages between 60 and 102 in order to see that, indeed it is an extreme value."
   ]
  },
  {
   "cell_type": "code",
   "execution_count": 41,
   "metadata": {},
   "outputs": [
    {
     "data": {
      "text/plain": [
       "0.1529884242853768"
      ]
     },
     "execution_count": 41,
     "metadata": {},
     "output_type": "execute_result"
    }
   ],
   "source": [
    "temp = rest_age(60,102)\n",
    "avg_2 = avg_no_show(temp)\n",
    "avg_2"
   ]
  },
  {
   "cell_type": "markdown",
   "metadata": {},
   "source": [
    "We see that indeed there is a big difference when we compare it to people around the same age."
   ]
  },
  {
   "cell_type": "markdown",
   "metadata": {},
   "source": [
    "<a id = 'quest2'></a>\n",
    "### Research Question 2: Is there a relevant diference between men and women grouping them by age when it comes to assistance?"
   ]
  },
  {
   "cell_type": "markdown",
   "metadata": {},
   "source": [
    "Let's see if there is a division because of gender.\n",
    "<br>\n",
    "But first, I noticed that the code that I'm going to write here is going to be usefull for the next graphs. So let's make a function in order not to repeat myself."
   ]
  },
  {
   "cell_type": "code",
   "execution_count": 42,
   "metadata": {},
   "outputs": [],
   "source": [
    "#function without normalization:\n",
    "def bar_gr(param,titl,x,y,l):\n",
    "    aux = data_modif[data_modif.no_show == 'Yes'][param].value_counts()\n",
    "    gr = aux.plot(kind='bar',fontsize = 15,figsize = (8,8))\n",
    "    gr.set_title(titl,fontsize = 18)\n",
    "    gr.set_xlabel(x, fontsize = 15)\n",
    "    gr.set_ylabel(y, fontsize = 15)\n",
    "    gr.set_xticklabels(l)"
   ]
  },
  {
   "cell_type": "code",
   "execution_count": 43,
   "metadata": {},
   "outputs": [
    {
     "data": {
      "image/png": "[encoded data removed]",
      "text/plain": [
       "<Figure size 576x576 with 1 Axes>"
      ]
     },
     "metadata": {
      "needs_background": "light"
     },
     "output_type": "display_data"
    }
   ],
   "source": [
    "#Before moving to the comparison using age as a variable of consideration let's focus only on men compared to women:\n",
    "bar_gr('gender','Comparison of absense by gender','gender','Population',['F','M'])"
   ]
  },
  {
   "cell_type": "markdown",
   "metadata": {},
   "source": [
    "We see that there is a big difference, does this depends on the population of women or is it a general trend?"
   ]
  },
  {
   "cell_type": "code",
   "execution_count": 44,
   "metadata": {},
   "outputs": [],
   "source": [
    "#Not to repeat bar graphs:\n",
    "def bar_gr_norm(array1,array2,name1,name2,x,y,title):\n",
    "    plt.figure(figsize = (8,8))\n",
    "    plt.bar([0], array1[array1.no_show == 'Yes'].count()[0]/array1.count()[0], 0.2, color = 'b')\n",
    "    plt.bar([0.4], array2[array2.no_show == 'Yes'].count()[0]/array2.count()[0], 0.2, color = 'orange')\n",
    "    plt.xticks([0,0.4],[name1,name2],fontsize = 12);\n",
    "    plt.xlabel(x,fontsize = 15)\n",
    "    plt.ylabel(y,fontsize = 15)\n",
    "    plt.title(title, fontsize = 18)"
   ]
  },
  {
   "cell_type": "code",
   "execution_count": 45,
   "metadata": {},
   "outputs": [],
   "source": [
    "#First we gather the data:\n",
    "women_tot = data_modif[data_modif.gender == 'F']\n",
    "men_tot = data_modif[data_modif.gender == 'M']"
   ]
  },
  {
   "cell_type": "code",
   "execution_count": 46,
   "metadata": {},
   "outputs": [
    {
     "data": {
      "image/png": "[encoded data removed]",
      "text/plain": [
       "<Figure size 576x576 with 1 Axes>"
      ]
     },
     "metadata": {
      "needs_background": "light"
     },
     "output_type": "display_data"
    }
   ],
   "source": [
    "bar_gr_norm(women_tot,men_tot,'women','men','Gender','Proportion of the population','Comparison of absense by gender')\n"
   ]
  },
  {
   "cell_type": "markdown",
   "metadata": {},
   "source": [
    "We see that the difference is because there is way more women than men in the data. But this is nothing new, this was something mentioned in the documentation. Women tend to take more care of their health. Through normalization we confirmed that. For the next part, let's focus on certain age."
   ]
  },
  {
   "cell_type": "code",
   "execution_count": 47,
   "metadata": {},
   "outputs": [
    {
     "data": {
      "image/png": "[encoded data removed]",
      "text/plain": [
       "<Figure size 1080x1080 with 1 Axes>"
      ]
     },
     "metadata": {
      "needs_background": "light"
     },
     "output_type": "display_data"
    }
   ],
   "source": [
    "#Now let's do the disctinction using the age as parameter:\n",
    "gr_ages('Comparison men-women by age','Proportion of attendance','Age',women_tot,'Women','r',men_tot,'Men','g')\n"
   ]
  },
  {
   "cell_type": "markdown",
   "metadata": {},
   "source": [
    "Now we see that the bars are almost the same, so the only conclusion that we can make until here is that there are more women than men in the dataset. The last bar has the same problem as the previous question."
   ]
  },
  {
   "cell_type": "markdown",
   "metadata": {},
   "source": [
    "<a id = 'quest3'></a>\n",
    "\n",
    "### Question 3: Does receiving a sms affect the rate of assistance?"
   ]
  },
  {
   "cell_type": "code",
   "execution_count": 48,
   "metadata": {},
   "outputs": [
    {
     "data": {
      "image/png": "[encoded data removed]",
      "text/plain": [
       "<Figure size 576x576 with 1 Axes>"
      ]
     },
     "metadata": {
      "needs_background": "light"
     },
     "output_type": "display_data"
    }
   ],
   "source": [
    "#First, without normalizing:\n",
    "bar_gr('sms_received','Absense according to sms received','Did the patient receive a sms?','Population',['No','Yes'])"
   ]
  },
  {
   "cell_type": "code",
   "execution_count": 49,
   "metadata": {},
   "outputs": [
    {
     "data": {
      "image/png": "[encoded data removed]",
      "text/plain": [
       "<Figure size 576x576 with 1 Axes>"
      ]
     },
     "metadata": {
      "needs_background": "light"
     },
     "output_type": "display_data"
    }
   ],
   "source": [
    "#It looks like there is a trend to have even a worse effect, let's see if that's the case with the normalized\n",
    "#graph:\n",
    "\n",
    "sms_yes = data_modif[data_modif.sms_received ==1]\n",
    "sms_no = data_modif[data_modif.sms_received==0]\n",
    "\n",
    "bar_gr_norm(sms_yes,sms_no,'No','Yes','Did the patient receive a sms?','Proportion of the population',\n",
    "            'Absense according to sms received')"
   ]
  },
  {
   "cell_type": "markdown",
   "metadata": {},
   "source": [
    "It looks like there really is a difference between receiving an sms or not! So the previous graph was a result of the fact that there is more people that do not receive an sms compared to the ones that do receive an sms."
   ]
  },
  {
   "cell_type": "markdown",
   "metadata": {},
   "source": [
    "<a id = \"quest4\"></a>\n",
    "### Question4: Do the age and receiving a sms affect the rate of assistance?"
   ]
  },
  {
   "cell_type": "code",
   "execution_count": 59,
   "metadata": {},
   "outputs": [
    {
     "data": {
      "image/png": "[encoded data removed]",
      "text/plain": [
       "<Figure size 1080x1080 with 1 Axes>"
      ]
     },
     "metadata": {
      "needs_background": "light"
     },
     "output_type": "display_data"
    }
   ],
   "source": [
    "#Let's use the data that we organized in the previous question:\n",
    "\n",
    "gr_ages('Absense according to age and presence of a sms', 'Age',\n",
    "        'Proportion of the population',sms_yes,'Didn\\'t receive a sms','r',sms_no,'Received a sms','b')"
   ]
  },
  {
   "cell_type": "markdown",
   "metadata": {},
   "source": [
    "It looks like the difference between people that received the sms and people that didn't has a tendency to decrease as long as the age is increasing. This could indicate that receiving a sms do make a difference for young people, but the effect is not as strong for older people.\n"
   ]
  },
  {
   "cell_type": "markdown",
   "metadata": {},
   "source": [
    "<a id = 'quest5'></a>\n",
    "\n",
    "### Question5: Is there any difference in assistance between patients that make an appointment for the same day in comparison to the ones that do not? "
   ]
  },
  {
   "cell_type": "code",
   "execution_count": 53,
   "metadata": {},
   "outputs": [
    {
     "data": {
      "text/plain": [
       "(43775, 6)"
      ]
     },
     "execution_count": 53,
     "metadata": {},
     "output_type": "execute_result"
    }
   ],
   "source": [
    "same_day = data_modif[data_modif.diff_app == 0]\n",
    "other_day = data_modif[data_modif.diff_app != 0]\n",
    "\n",
    "#First we confirm that we have enough data to be considered relevant:\n",
    "same_day.shape"
   ]
  },
  {
   "cell_type": "code",
   "execution_count": 57,
   "metadata": {},
   "outputs": [
    {
     "data": {
      "image/png": "[encoded data removed]",
      "text/plain": [
       "<Figure size 576x576 with 1 Axes>"
      ]
     },
     "metadata": {
      "needs_background": "light"
     },
     "output_type": "display_data"
    }
   ],
   "source": [
    "#So let's make the graphs:\n",
    "bar_gr_norm(same_day,other_day,'Same day', 'Other day','Difference in the day',\n",
    "            'Proportion of the population','Disctintion between the day of the appointment')"
   ]
  },
  {
   "cell_type": "markdown",
   "metadata": {},
   "source": [
    "As we see, there is a noticeable difference between the two graphs."
   ]
  },
  {
   "cell_type": "markdown",
   "metadata": {},
   "source": [
    "<a id='conclusions'></a>\n",
    "## Conclusions\n"
   ]
  },
  {
   "cell_type": "markdown",
   "metadata": {},
   "source": [
    "1) There is a maximum of absense between 12 and 18 years.\n",
    "\n",
    "2) There is a local maximum of absense between 90 and 96 years.\n",
    "\n",
    "3) Women tend to care more about their health\n",
    "\n",
    "4) Receiving an sms tend to make a difference in the absense rate.\n",
    "\n",
    "5) The effect previosly mentioned tends to slow down as the age increases.\n",
    "\n",
    "6) People tend to assist more if the appointment that they have made is for the same day."
   ]
  },
  {
   "cell_type": "code",
   "execution_count": null,
   "metadata": {},
   "outputs": [],
   "source": []
  }
 ],
 "metadata": {
  "kernelspec": {
   "display_name": "Python 3",
   "language": "python",
   "name": "python3"
  },
  "language_info": {
   "codemirror_mode": {
    "name": "ipython",
    "version": 3
   },
   "file_extension": ".py",
   "mimetype": "text/x-python",
   "name": "python",
   "nbconvert_exporter": "python",
   "pygments_lexer": "ipython3",
   "version": "3.7.2"
  }
 },
 "nbformat": 4,
 "nbformat_minor": 2
}
